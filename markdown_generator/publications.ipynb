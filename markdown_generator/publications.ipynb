{
 "cells": [
  {
   "cell_type": "markdown",
   "metadata": {},
   "source": [
    "# Publications markdown generator for academicpages\n",
    "\n",
    "Takes a TSV of publications with metadata and converts them for use with [academicpages.github.io](academicpages.github.io). This is an interactive Jupyter notebook ([see more info here](http://jupyter-notebook-beginner-guide.readthedocs.io/en/latest/what_is_jupyter.html)). The core python code is also in `publications.py`. Run either from the `markdown_generator` folder after replacing `publications.tsv` with one containing your data.\n",
    "\n",
    "TODO: Make this work with BibTex and other databases of citations, rather than Stuart's non-standard TSV format and citation style.\n"
   ]
  },
  {
   "cell_type": "markdown",
   "metadata": {},
   "source": [
    "## Data format\n",
    "\n",
    "The TSV needs to have the following columns: pub_date, title, venue, excerpt, citation, site_url, and paper_url, with a header at the top. \n",
    "\n",
    "- `excerpt` and `paper_url` can be blank, but the others must have values. \n",
    "- `pub_date` must be formatted as YYYY-MM-DD.\n",
    "- `url_slug` will be the descriptive part of the .md file and the permalink URL for the page about the paper. The .md file will be `YYYY-MM-DD-[url_slug].md` and the permalink will be `https://[yourdomain]/publications/YYYY-MM-DD-[url_slug]`\n",
    "\n",
    "This is how the raw file looks (it doesn't look pretty, use a spreadsheet or other program to edit and create)."
   ]
  },
  {
   "cell_type": "code",
   "execution_count": 1,
   "metadata": {},
   "outputs": [
    {
     "name": "stderr",
     "output_type": "stream",
     "text": [
      "'cat' is not recognized as an internal or external command,\n",
      "operable program or batch file.\n"
     ]
    }
   ],
   "source": [
    "!cat publications.tsv"
   ]
  },
  {
   "cell_type": "markdown",
   "metadata": {},
   "source": [
    "## Import pandas\n",
    "\n",
    "We are using the very handy pandas library for dataframes."
   ]
  },
  {
   "cell_type": "code",
   "execution_count": 2,
   "metadata": {},
   "outputs": [],
   "source": [
    "import pandas as pd"
   ]
  },
  {
   "cell_type": "markdown",
   "metadata": {},
   "source": [
    "## Import TSV\n",
    "\n",
    "Pandas makes this easy with the read_csv function. We are using a TSV, so we specify the separator as a tab, or `\\t`.\n",
    "\n",
    "I found it important to put this data in a tab-separated values format, because there are a lot of commas in this kind of data and comma-separated values can get messed up. However, you can modify the import statement, as pandas also has read_excel(), read_json(), and others."
   ]
  },
  {
   "cell_type": "code",
   "execution_count": 4,
   "metadata": {},
   "outputs": [
    {
     "data": {
      "text/html": [
       "<div>\n",
       "<style scoped>\n",
       "    .dataframe tbody tr th:only-of-type {\n",
       "        vertical-align: middle;\n",
       "    }\n",
       "\n",
       "    .dataframe tbody tr th {\n",
       "        vertical-align: top;\n",
       "    }\n",
       "\n",
       "    .dataframe thead th {\n",
       "        text-align: right;\n",
       "    }\n",
       "</style>\n",
       "<table border=\"1\" class=\"dataframe\">\n",
       "  <thead>\n",
       "    <tr style=\"text-align: right;\">\n",
       "      <th></th>\n",
       "      <th>pub_date</th>\n",
       "      <th>title</th>\n",
       "      <th>venue</th>\n",
       "      <th>excerpt</th>\n",
       "      <th>citation</th>\n",
       "      <th>url_slug</th>\n",
       "      <th>paper_url</th>\n",
       "      <th>file_url</th>\n",
       "    </tr>\n",
       "  </thead>\n",
       "  <tbody>\n",
       "    <tr>\n",
       "      <th>0</th>\n",
       "      <td>02-04-21</td>\n",
       "      <td>Pembangunan Aplikasi Mobile Pengenalan Objek U...</td>\n",
       "      <td>Jurnal Teknologi Informasi dan Ilmu Komputer (...</td>\n",
       "      <td>Mobile phone usage has been very close to earl...</td>\n",
       "      <td>Supriadi, M., Rachmawati, E., &amp; Arifianto, A. ...</td>\n",
       "      <td>pembangunan-aplikasi-mobile-pengenalan-objek-u...</td>\n",
       "      <td>https://jtiik.ub.ac.id/index.php/jtiik/article...</td>\n",
       "      <td>https://jtiik.ub.ac.id/index.php/jtiik/article...</td>\n",
       "    </tr>\n",
       "    <tr>\n",
       "      <th>1</th>\n",
       "      <td>16-10-20</td>\n",
       "      <td>Lip Motion Recognition for Indonesian Vowel Ph...</td>\n",
       "      <td>2020 3rd International Conference on Computer ...</td>\n",
       "      <td>Lip motion recognition is a technique for inte...</td>\n",
       "      <td>Maxalmina, S. Kahfi, K. N. Ramadhani and A. Ar...</td>\n",
       "      <td>lip-motion-recognition-for-indonesian-vowel-ph...</td>\n",
       "      <td>https://ieeexplore.ieee.org/document/9274562</td>\n",
       "      <td>https://drive.google.com/file/d/1FzAEEjs6WVtxy...</td>\n",
       "    </tr>\n",
       "    <tr>\n",
       "      <th>2</th>\n",
       "      <td>02-10-20</td>\n",
       "      <td>Classifying Skin Cancer in Digital Images Usin...</td>\n",
       "      <td>Indonesia Journal on Computing (Indo-JC), Vol....</td>\n",
       "      <td>Skin cancer is a hazardous disease that can in...</td>\n",
       "      <td>Aliyah, Z., Arifianto, A., &amp; Sthevanie, F. (20...</td>\n",
       "      <td>classifying-skin-cancer-in-digital-images-usin...</td>\n",
       "      <td>https://socj.telkomuniversity.ac.id/ojs/index....</td>\n",
       "      <td>https://socj.telkomuniversity.ac.id/ojs/index....</td>\n",
       "    </tr>\n",
       "    <tr>\n",
       "      <th>3</th>\n",
       "      <td>02-10-20</td>\n",
       "      <td>Pneumonia Classification from X-ray Images Usi...</td>\n",
       "      <td>Indonesia Journal on Computing (Indo-JC), Vol....</td>\n",
       "      <td>Pneumonia is a virus, bacterium, and fungi inf...</td>\n",
       "      <td>Ahnafi, A. H., Arifianto, A., &amp; Ramadhani, K. ...</td>\n",
       "      <td>pneumonia-classification-from-x-ray-images-usi...</td>\n",
       "      <td>https://socj.telkomuniversity.ac.id/ojs/index....</td>\n",
       "      <td>https://socj.telkomuniversity.ac.id/ojs/index....</td>\n",
       "    </tr>\n",
       "    <tr>\n",
       "      <th>4</th>\n",
       "      <td>06-08-20</td>\n",
       "      <td>Recognizing Soft Biometric on Pedestrian Using...</td>\n",
       "      <td>2020 International Conference on Data Science ...</td>\n",
       "      <td>Video surveillance is very important in automa...</td>\n",
       "      <td>T. B. Siswoyo, A. Arifianto and K. N. Ramadhan...</td>\n",
       "      <td>recognizing-soft-biometric-on-pedestrian-using...</td>\n",
       "      <td>https://ieeexplore.ieee.org/document/9213066</td>\n",
       "      <td>https://drive.google.com/file/d/1U0BjPG6RBVXBy...</td>\n",
       "    </tr>\n",
       "  </tbody>\n",
       "</table>\n",
       "</div>"
      ],
      "text/plain": [
       "   pub_date                                              title  \\\n",
       "0  02-04-21  Pembangunan Aplikasi Mobile Pengenalan Objek U...   \n",
       "1  16-10-20  Lip Motion Recognition for Indonesian Vowel Ph...   \n",
       "2  02-10-20  Classifying Skin Cancer in Digital Images Usin...   \n",
       "3  02-10-20  Pneumonia Classification from X-ray Images Usi...   \n",
       "4  06-08-20  Recognizing Soft Biometric on Pedestrian Using...   \n",
       "\n",
       "                                               venue  \\\n",
       "0  Jurnal Teknologi Informasi dan Ilmu Komputer (...   \n",
       "1  2020 3rd International Conference on Computer ...   \n",
       "2  Indonesia Journal on Computing (Indo-JC), Vol....   \n",
       "3  Indonesia Journal on Computing (Indo-JC), Vol....   \n",
       "4  2020 International Conference on Data Science ...   \n",
       "\n",
       "                                             excerpt  \\\n",
       "0  Mobile phone usage has been very close to earl...   \n",
       "1  Lip motion recognition is a technique for inte...   \n",
       "2  Skin cancer is a hazardous disease that can in...   \n",
       "3  Pneumonia is a virus, bacterium, and fungi inf...   \n",
       "4  Video surveillance is very important in automa...   \n",
       "\n",
       "                                            citation  \\\n",
       "0  Supriadi, M., Rachmawati, E., & Arifianto, A. ...   \n",
       "1  Maxalmina, S. Kahfi, K. N. Ramadhani and A. Ar...   \n",
       "2  Aliyah, Z., Arifianto, A., & Sthevanie, F. (20...   \n",
       "3  Ahnafi, A. H., Arifianto, A., & Ramadhani, K. ...   \n",
       "4  T. B. Siswoyo, A. Arifianto and K. N. Ramadhan...   \n",
       "\n",
       "                                            url_slug  \\\n",
       "0  pembangunan-aplikasi-mobile-pengenalan-objek-u...   \n",
       "1  lip-motion-recognition-for-indonesian-vowel-ph...   \n",
       "2  classifying-skin-cancer-in-digital-images-usin...   \n",
       "3  pneumonia-classification-from-x-ray-images-usi...   \n",
       "4  recognizing-soft-biometric-on-pedestrian-using...   \n",
       "\n",
       "                                           paper_url  \\\n",
       "0  https://jtiik.ub.ac.id/index.php/jtiik/article...   \n",
       "1       https://ieeexplore.ieee.org/document/9274562   \n",
       "2  https://socj.telkomuniversity.ac.id/ojs/index....   \n",
       "3  https://socj.telkomuniversity.ac.id/ojs/index....   \n",
       "4       https://ieeexplore.ieee.org/document/9213066   \n",
       "\n",
       "                                            file_url  \n",
       "0  https://jtiik.ub.ac.id/index.php/jtiik/article...  \n",
       "1  https://drive.google.com/file/d/1FzAEEjs6WVtxy...  \n",
       "2  https://socj.telkomuniversity.ac.id/ojs/index....  \n",
       "3  https://socj.telkomuniversity.ac.id/ojs/index....  \n",
       "4  https://drive.google.com/file/d/1U0BjPG6RBVXBy...  "
      ]
     },
     "execution_count": 4,
     "metadata": {},
     "output_type": "execute_result"
    }
   ],
   "source": [
    "publications = pd.read_csv(\"publications.tsv\", sep=\"\\t\", header=0)\n",
    "publications\n"
   ]
  },
  {
   "cell_type": "markdown",
   "metadata": {},
   "source": [
    "## Escape special characters\n",
    "\n",
    "YAML is very picky about how it takes a valid string, so we are replacing single and double quotes (and ampersands) with their HTML encoded equivilents. This makes them look not so readable in raw format, but they are parsed and rendered nicely."
   ]
  },
  {
   "cell_type": "code",
   "execution_count": 5,
   "metadata": {},
   "outputs": [],
   "source": [
    "html_escape_table = {\n",
    "    \"&\": \"&amp;\",\n",
    "    '\"': \"&quot;\",\n",
    "    \"'\": \"&apos;\"\n",
    "    }\n",
    "\n",
    "def html_escape(text):\n",
    "    \"\"\"Produce entities within text.\"\"\"\n",
    "    return \"\".join(html_escape_table.get(c,c) for c in text)"
   ]
  },
  {
   "cell_type": "markdown",
   "metadata": {},
   "source": [
    "## Creating the markdown files\n",
    "\n",
    "This is where the heavy lifting is done. This loops through all the rows in the TSV dataframe, then starts to concatentate a big string (```md```) that contains the markdown for each type. It does the YAML metadata first, then does the description for the individual page."
   ]
  },
  {
   "cell_type": "code",
   "execution_count": 10,
   "metadata": {},
   "outputs": [
    {
     "name": "stdout",
     "output_type": "stream",
     "text": [
      "-------------\n",
      "0 pub_date                                              02-04-21\n",
      "title        Pembangunan Aplikasi Mobile Pengenalan Objek U...\n",
      "venue        Jurnal Teknologi Informasi dan Ilmu Komputer (...\n",
      "excerpt      Mobile phone usage has been very close to earl...\n",
      "citation     Supriadi, M., Rachmawati, E., & Arifianto, A. ...\n",
      "url_slug     pembangunan-aplikasi-mobile-pengenalan-objek-u...\n",
      "paper_url    https://jtiik.ub.ac.id/index.php/jtiik/article...\n",
      "file_url     https://jtiik.ub.ac.id/index.php/jtiik/article...\n",
      "Name: 0, dtype: object\n",
      "-------------\n",
      "1 pub_date                                              16-10-20\n",
      "title        Lip Motion Recognition for Indonesian Vowel Ph...\n",
      "venue        2020 3rd International Conference on Computer ...\n",
      "excerpt      Lip motion recognition is a technique for inte...\n",
      "citation     Maxalmina, S. Kahfi, K. N. Ramadhani and A. Ar...\n",
      "url_slug     lip-motion-recognition-for-indonesian-vowel-ph...\n",
      "paper_url         https://ieeexplore.ieee.org/document/9274562\n",
      "file_url     https://drive.google.com/file/d/1FzAEEjs6WVtxy...\n",
      "Name: 1, dtype: object\n"
     ]
    },
    {
     "ename": "UnicodeEncodeError",
     "evalue": "'charmap' codec can't encode character '\\ufffd' in position 972: character maps to <undefined>",
     "output_type": "error",
     "traceback": [
      "\u001b[1;31m---------------------------------------------------------------------------\u001b[0m",
      "\u001b[1;31mUnicodeEncodeError\u001b[0m                        Traceback (most recent call last)",
      "\u001b[1;32m<ipython-input-10-37f01d86627c>\u001b[0m in \u001b[0;36m<module>\u001b[1;34m\u001b[0m\n\u001b[0;32m     42\u001b[0m \u001b[1;33m\u001b[0m\u001b[0m\n\u001b[0;32m     43\u001b[0m     \u001b[1;32mwith\u001b[0m \u001b[0mopen\u001b[0m\u001b[1;33m(\u001b[0m\u001b[1;34m\"../_publications/\"\u001b[0m \u001b[1;33m+\u001b[0m \u001b[0mmd_filename\u001b[0m\u001b[1;33m,\u001b[0m \u001b[1;34m'w'\u001b[0m\u001b[1;33m)\u001b[0m \u001b[1;32mas\u001b[0m \u001b[0mf\u001b[0m\u001b[1;33m:\u001b[0m\u001b[1;33m\u001b[0m\u001b[1;33m\u001b[0m\u001b[0m\n\u001b[1;32m---> 44\u001b[1;33m         \u001b[0mf\u001b[0m\u001b[1;33m.\u001b[0m\u001b[0mwrite\u001b[0m\u001b[1;33m(\u001b[0m\u001b[0mmd\u001b[0m\u001b[1;33m)\u001b[0m\u001b[1;33m\u001b[0m\u001b[1;33m\u001b[0m\u001b[0m\n\u001b[0m",
      "\u001b[1;32m~\\Anaconda3\\envs\\tensorflow\\lib\\encodings\\cp1252.py\u001b[0m in \u001b[0;36mencode\u001b[1;34m(self, input, final)\u001b[0m\n\u001b[0;32m     17\u001b[0m \u001b[1;32mclass\u001b[0m \u001b[0mIncrementalEncoder\u001b[0m\u001b[1;33m(\u001b[0m\u001b[0mcodecs\u001b[0m\u001b[1;33m.\u001b[0m\u001b[0mIncrementalEncoder\u001b[0m\u001b[1;33m)\u001b[0m\u001b[1;33m:\u001b[0m\u001b[1;33m\u001b[0m\u001b[1;33m\u001b[0m\u001b[0m\n\u001b[0;32m     18\u001b[0m     \u001b[1;32mdef\u001b[0m \u001b[0mencode\u001b[0m\u001b[1;33m(\u001b[0m\u001b[0mself\u001b[0m\u001b[1;33m,\u001b[0m \u001b[0minput\u001b[0m\u001b[1;33m,\u001b[0m \u001b[0mfinal\u001b[0m\u001b[1;33m=\u001b[0m\u001b[1;32mFalse\u001b[0m\u001b[1;33m)\u001b[0m\u001b[1;33m:\u001b[0m\u001b[1;33m\u001b[0m\u001b[1;33m\u001b[0m\u001b[0m\n\u001b[1;32m---> 19\u001b[1;33m         \u001b[1;32mreturn\u001b[0m \u001b[0mcodecs\u001b[0m\u001b[1;33m.\u001b[0m\u001b[0mcharmap_encode\u001b[0m\u001b[1;33m(\u001b[0m\u001b[0minput\u001b[0m\u001b[1;33m,\u001b[0m\u001b[0mself\u001b[0m\u001b[1;33m.\u001b[0m\u001b[0merrors\u001b[0m\u001b[1;33m,\u001b[0m\u001b[0mencoding_table\u001b[0m\u001b[1;33m)\u001b[0m\u001b[1;33m[\u001b[0m\u001b[1;36m0\u001b[0m\u001b[1;33m]\u001b[0m\u001b[1;33m\u001b[0m\u001b[1;33m\u001b[0m\u001b[0m\n\u001b[0m\u001b[0;32m     20\u001b[0m \u001b[1;33m\u001b[0m\u001b[0m\n\u001b[0;32m     21\u001b[0m \u001b[1;32mclass\u001b[0m \u001b[0mIncrementalDecoder\u001b[0m\u001b[1;33m(\u001b[0m\u001b[0mcodecs\u001b[0m\u001b[1;33m.\u001b[0m\u001b[0mIncrementalDecoder\u001b[0m\u001b[1;33m)\u001b[0m\u001b[1;33m:\u001b[0m\u001b[1;33m\u001b[0m\u001b[1;33m\u001b[0m\u001b[0m\n",
      "\u001b[1;31mUnicodeEncodeError\u001b[0m: 'charmap' codec can't encode character '\\ufffd' in position 972: character maps to <undefined>"
     ]
    }
   ],
   "source": [
    "import os\n",
    "for row, item in publications.iterrows():\n",
    "    print('-------------')\n",
    "    print(row, item)\n",
    "    md_filename = str(item.pub_date) + \"-\" + item.url_slug + \".md\"\n",
    "    html_filename = str(item.pub_date) + \"-\" + item.url_slug\n",
    "    year = item.pub_date[:4]\n",
    "    \n",
    "    ## YAML variables\n",
    "    \n",
    "    md = \"---\\ntitle: \\\"\"   + item.title + '\"\\n'\n",
    "    \n",
    "    md += \"\"\"collection: publications\"\"\"\n",
    "    \n",
    "    md += \"\"\"\\npermalink: /publication/\"\"\" + html_filename\n",
    "    \n",
    "    if len(str(item.excerpt)) > 5:\n",
    "        md += \"\\nexcerpt: '\" + html_escape(item.excerpt) + \"'\"\n",
    "    \n",
    "    md += \"\\ndate: \" + str(item.pub_date) \n",
    "    \n",
    "    md += \"\\nvenue: '\" + html_escape(item.venue) + \"'\"\n",
    "    \n",
    "    if len(str(item.paper_url)) > 5:\n",
    "        md += \"\\npaperurl: '\" + item.paper_url + \"'\"\n",
    "    \n",
    "    md += \"\\ncitation: '\" + html_escape(item.citation) + \"'\"\n",
    "    \n",
    "    md += \"\\n---\"\n",
    "    \n",
    "    ## Markdown description for individual page\n",
    "        \n",
    "    if len(str(item.excerpt)) > 5:\n",
    "        md += \"\\n\" + html_escape(item.excerpt) + \"\\n\"\n",
    "    \n",
    "    if len(str(item.paper_url)) > 5:\n",
    "        md += \"\\n[Download paper here](\" + item.file_url + \")\\n\" \n",
    "        \n",
    "    md += \"\\nRecommended citation: \" + item.citation\n",
    "    \n",
    "    md_filename = os.path.basename(md_filename)\n",
    "       \n",
    "    with open(\"../_publications/\" + md_filename, 'w') as f:\n",
    "        f.write(md)"
   ]
  },
  {
   "cell_type": "markdown",
   "metadata": {},
   "source": [
    "These files are in the publications directory, one directory below where we're working from."
   ]
  },
  {
   "cell_type": "code",
   "execution_count": 6,
   "metadata": {},
   "outputs": [
    {
     "name": "stdout",
     "output_type": "stream",
     "text": [
      "2009-10-01-paper-title-number-1.md  2015-10-01-paper-title-number-3.md\r\n",
      "2010-10-01-paper-title-number-2.md\r\n"
     ]
    }
   ],
   "source": [
    "!ls ../_publications/"
   ]
  },
  {
   "cell_type": "code",
   "execution_count": 7,
   "metadata": {},
   "outputs": [
    {
     "name": "stdout",
     "output_type": "stream",
     "text": [
      "---\r\n",
      "title: \"Paper Title Number 1\"\r\n",
      "collection: publications\r\n",
      "permalink: /publication/2009-10-01-paper-title-number-1\r\n",
      "excerpt: 'This paper is about the number 1. The number 2 is left for future work.'\r\n",
      "date: 2009-10-01\r\n",
      "venue: 'Journal 1'\r\n",
      "paperurl: 'http://academicpages.github.io/files/paper1.pdf'\r\n",
      "citation: 'Your Name, You. (2009). &quot;Paper Title Number 1.&quot; <i>Journal 1</i>. 1(1).'\r\n",
      "---\r\n",
      "This paper is about the number 1. The number 2 is left for future work.\r\n",
      "\r\n",
      "[Download paper here](http://academicpages.github.io/files/paper1.pdf)\r\n",
      "\r\n",
      "Recommended citation: Your Name, You. (2009). \"Paper Title Number 1.\" <i>Journal 1</i>. 1(1)."
     ]
    }
   ],
   "source": [
    "!cat ../_publications/2009-10-01-paper-title-number-1.md"
   ]
  },
  {
   "cell_type": "code",
   "execution_count": null,
   "metadata": {
    "collapsed": true
   },
   "outputs": [],
   "source": []
  }
 ],
 "metadata": {
  "kernelspec": {
   "display_name": "Python 3",
   "language": "python",
   "name": "python3"
  },
  "language_info": {
   "codemirror_mode": {
    "name": "ipython",
    "version": 3
   },
   "file_extension": ".py",
   "mimetype": "text/x-python",
   "name": "python",
   "nbconvert_exporter": "python",
   "pygments_lexer": "ipython3",
   "version": "3.7.10"
  },
  "toc": {
   "base_numbering": 1,
   "nav_menu": {},
   "number_sections": false,
   "sideBar": true,
   "skip_h1_title": false,
   "title_cell": "Table of Contents",
   "title_sidebar": "Contents",
   "toc_cell": false,
   "toc_position": {},
   "toc_section_display": true,
   "toc_window_display": true
  }
 },
 "nbformat": 4,
 "nbformat_minor": 1
}
